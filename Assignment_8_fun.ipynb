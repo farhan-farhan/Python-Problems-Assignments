{
 "cells": [
  {
   "attachments": {},
   "cell_type": "markdown",
   "metadata": {},
   "source": [
    "\n",
    "1.\tWrite the function to find that entered number even or odd.\n",
    "2.\tWrite the function to print the entered number in reverse order.\n",
    "3.\tWrite the function to find out whether entered number is prime or not.\n",
    "4.\tWrite the function to calculate the factorial of a entered number.\n",
    "5.\tWrite the function to print the Fibonacci series. The number of terms for Fibonacci series will be entered through keyboard.\n",
    "6.\tWrite the function to find entered number through keyboard is whether Armstrong or not.\n",
    "7.\tWrite a function to find entered number through keyboard is whether palindrome or not.\n",
    "8.\tWrite a function that takes a number entered through keyboard and find whether it is positive or negative.\n",
    "9.\tWrite a function that takes a number entered through keyboard and find whether it isArmstrong number or not.\n",
    "10.\tWrite a function that takes two numbers entered through keyboard and return greatest of them. \n",
    "11.\tWrite a function that takes numbers entered through keyboard and return the sum of digits of entered numbers\n",
    "12. Write a function that takes two numbers a and b , enter throw the keybord and return the value of a^b \n"
   ]
  },
  {
   "cell_type": "code",
   "execution_count": null,
   "metadata": {},
   "outputs": [],
   "source": [
    "# 1.\tWrite the function to find that entered number even or odd.\n",
    "\n",
    "def iseven_odd(n):\n",
    "    if n%2==0:\n",
    "        return \"even\"\n",
    "    else:\n",
    "        return \"odd\"\n",
    "print(iseven_odd(int(input(\"Enter the Number:\\n\"))))  "
   ]
  },
  {
   "cell_type": "code",
   "execution_count": null,
   "metadata": {},
   "outputs": [],
   "source": [
    "# 2.\tWrite the function to print the entered number in reverse order.\n",
    "\n",
    "def isreverse(n):\n",
    "    rev=0\n",
    "    while(n):\n",
    "       r=n%10\n",
    "       n=n//10   \n",
    "       rev=rev*10 +r\n",
    "    return rev  \n",
    "print(isreverse(n=int(input(\"Enter the number: \\n\"))))"
   ]
  },
  {
   "cell_type": "code",
   "execution_count": null,
   "metadata": {},
   "outputs": [],
   "source": [
    "  \n",
    "# 3.\tWrite the function to find out whether entered number is prime or not.\n",
    "def prime_or_not(n):\n",
    "    for i in range(2,n):\n",
    "        if n%i==0:\n",
    "         return \"not prime\"\n",
    "    else:\n",
    "        return \"Prime No\"\n",
    "    \n",
    "print(prime_or_not(n=int(input(\"Enter the number: \\n\"))))"
   ]
  },
  {
   "cell_type": "code",
   "execution_count": null,
   "metadata": {},
   "outputs": [],
   "source": [
    "# 4.\tWrite the function to calculate the factorial of a entered number.\n",
    "\n",
    "def fact(n):\n",
    "    i=1\n",
    "    fact=1\n",
    "    for i in range(1,n+1):\n",
    "        fact=fact*i\n",
    "    return fact\n",
    "print(fact(5))"
   ]
  },
  {
   "cell_type": "code",
   "execution_count": null,
   "metadata": {},
   "outputs": [],
   "source": [
    "# 5.\tWrite the function to print the Fibonacci series. The number of terms for Fibonacci series will be entered through keyboard.\n",
    "\n",
    "def fib(n):\n",
    "    a,b=0,1\n",
    "    if n==0:\n",
    "     return 0\n",
    "    else:\n",
    "        c=a+b\n",
    "        a=b\n",
    "        b=c\n",
    "    return a \n",
    "n=int(input(\"Enter the terms of febonacci series:\\n\"))\n",
    "for i in range(n):  \n",
    "   print(fib(n))  "
   ]
  },
  {
   "cell_type": "code",
   "execution_count": null,
   "metadata": {},
   "outputs": [],
   "source": [
    "# 6.\tWrite the function to find entered number through keyboard is whether Armstrong or not.\n",
    "\n",
    "def Armstrong(n):\n",
    "         su=0\n",
    "         x=n\n",
    "         while(x):\n",
    "             r=x%10\n",
    "             su=su + (r*r*r)\n",
    "             x=x//10\n",
    "         if(su==n):\n",
    "          return \"Armstrong No:\"\n",
    "         else:\n",
    "             return \"not Armstrong No\" \n",
    "print(Armstrong(int(input(\"Enter the no \"))))  "
   ]
  },
  {
   "cell_type": "code",
   "execution_count": null,
   "metadata": {},
   "outputs": [],
   "source": [
    "# 7.\tWrite a function to find entered number through keyboard is whether palindrome or not.\n",
    "\n",
    "def plaindrom(n):\n",
    "    x=n\n",
    "    sum=0\n",
    "    while(x):\n",
    "        r=x%10\n",
    "        sum=sum*10+r\n",
    "        x=x//10\n",
    "    if n==sum:\n",
    "        return \"is plaindrome\"\n",
    "    else:\n",
    "        return \"not a plaindrome No\"\n",
    "print(plaindrom(int(input(\"Enter the number:\"))))  \n",
    "  "
   ]
  },
  {
   "cell_type": "code",
   "execution_count": null,
   "metadata": {},
   "outputs": [],
   "source": [
    "# 8.\tWrite a function that takes a number entered through keyboard and find whether it is positive or negative.\n",
    "\n",
    "def is_positive_negative(n):\n",
    "    if n>0:\n",
    "        return \"positive number:\"\n",
    "    elif n<0:\n",
    "        return \"negative no:\"\n",
    "    else:\n",
    "        return \"neither positive nor negative no:\"\n",
    "print(is_positive_negative(int(input(\"Enter the number:\"))))"
   ]
  },
  {
   "cell_type": "code",
   "execution_count": null,
   "metadata": {},
   "outputs": [],
   "source": [
    "# 9.\tWrite a function that takes a number entered through keyboard and find whether it isArmstrong number or not.\n"
   ]
  },
  {
   "cell_type": "code",
   "execution_count": null,
   "metadata": {},
   "outputs": [],
   "source": [
    "# 10.\tWrite a function that takes two numbers entered through keyboard and return greatest of them.\n",
    "\n",
    "def grat(n,m):\n",
    "    if n>m:\n",
    "        return f\"{n} is grater number\" \n",
    "    elif m>n:\n",
    "        return f\"{m} is grater nuber\"\n",
    "    else:\n",
    "        return \"both are equal\"\n",
    "n=int(input(\"Enter first No :\"))\n",
    "m=int(input(\"enter the second No:\"))\n",
    "print(grat(n,m))  \n",
    "  "
   ]
  },
  {
   "cell_type": "code",
   "execution_count": null,
   "metadata": {},
   "outputs": [],
   "source": [
    "# 11.\tWrite a function that takes numbers entered through keyboard and return the sum of digits of entered numbers.\n",
    "\n",
    "def sumof_digit(n):\n",
    "    sum=0\n",
    "    while(n):\n",
    "      r=n%10\n",
    "      sum=sum+r\n",
    "      n=n//10\n",
    "    return sum\n",
    "print(\"Sum of the digit is : \",sumof_digit(int(input(\"Enter the number:\")))) "
   ]
  },
  {
   "cell_type": "code",
   "execution_count": null,
   "metadata": {},
   "outputs": [],
   "source": [
    "\n",
    "def pow(a,b):\n",
    "    res=1\n",
    "    for i in range(1,b+1):\n",
    "        res=res*a\n",
    "    return res\n",
    "a=int(input(\"Enter the base value :\"))\n",
    "b=int(input(\"Enter the expotintial value :\"))\n",
    "print(pow(a,b))"
   ]
  }
 ],
 "metadata": {
  "language_info": {
   "name": "python"
  },
  "orig_nbformat": 4
 },
 "nbformat": 4,
 "nbformat_minor": 2
}
