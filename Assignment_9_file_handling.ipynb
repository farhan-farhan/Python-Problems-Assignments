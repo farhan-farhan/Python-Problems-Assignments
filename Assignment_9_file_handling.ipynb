{
 "cells": [
  {
   "attachments": {},
   "cell_type": "markdown",
   "metadata": {},
   "source": [
    "1. Write a Python program to read an entire text file.  \n",
    " \n",
    "2. Write a Python program to read first n lines of a file.  \n",
    " \n",
    "3. Write a Python program to append text to a file and display the text.  \n",
    " \n",
    "4. Write a Python program to read last n lines of a file.  \n",
    " \n",
    "5. Write a Python program to read a file line by line and store it into a list.  \n",
    " \n",
    "6. Write a Python program to read a file line by line store it into a variable.  \n",
    " \n",
    "7. Write a Python program to read a file line by line store it into a list.  \n",
    " \n",
    "8. Write a python program to find the longest words of a file.  \n",
    " \n",
    "9. Write a Python program to count the number of lines in a text file.  \n",
    " \n",
    "10. Write a Python program to count the frequency of words in a file.  \n",
    " \n",
    "11. Write a Python program to get the file size of a plain file.  \n",
    " \n",
    "12. Write a Python program to write a list to a file.  \n",
    " \n",
    "13. Write a Python program to copy the contents of a file to another  file .  \n",
    " \n",
    "14. Write a Python program to combine each line from first file with the corresponding line in second file.  \n",
    " \n",
    "15. Write a Python program to read a random line from a file.  \n",
    " \n",
    "16. Write a Python program to assess if a file is closed or not.  \n",
    " \n",
    "17. Write a Python program to remove newline characters from a file.  \n",
    " \n",
    "18. Write a Python program that takes a text file as input and returns the number of words of a given text file.  \n",
    "\n",
    "Note: Some words can be separated by a comma with no space.\n",
    " \n",
    "19. Write a Python program to extract characters from various text files and puts them into a list.  \n",
    " \n",
    "20. Write a Python program to generate 26 text files named A.txt, B.txt, and so on up to Z.txt.  \n",
    " \n",
    "21. Write a Python program to create a file where all letters of English alphabet are listed by specified number of letters on each line.  \n",
    " \n"
   ]
  },
  {
   "cell_type": "code",
   "execution_count": 2,
   "metadata": {},
   "outputs": [
    {
     "name": "stdout",
     "output_type": "stream",
     "text": [
      "hello i am farhan \n",
      "i am b.tech student of 4th year \n",
      "i am able to any IT job\n",
      "my dream is to learn and teach other\n"
     ]
    }
   ],
   "source": [
    "# 1. Write a Python program to read an entire text file.  \n",
    "file=open(\"k.txt\",\"r\")\n",
    "print(file.read())\n",
    "file.close()"
   ]
  },
  {
   "cell_type": "code",
   "execution_count": 2,
   "metadata": {},
   "outputs": [],
   "source": [
    "# 2. Write a Python program to read first n lines of a file.  \n",
    "n=int(input(\"Enter the no of line you want to read:\"))\n",
    "with open(\"k.txt\",\"r\") as file:\n",
    "    for line in (file.readlines()[:n]):\n",
    "        print(line,end=\"\")"
   ]
  },
  {
   "cell_type": "code",
   "execution_count": null,
   "metadata": {},
   "outputs": [],
   "source": [
    "# 3. Write a Python program to append text to a file and display the text.  \n",
    "with open(\"k.txt\",\"a\") as file:\n",
    "    file.write(\"I am learning know\")\n",
    "    print(file.read())"
   ]
  },
  {
   "cell_type": "code",
   "execution_count": null,
   "metadata": {},
   "outputs": [],
   "source": [
    "# 4. Write a Python program to read last n lines of a file.  \n",
    "n=int(input(\"Enter the no of line you want to read:\"))\n",
    "with open(\"k.txt\",\"r\") as file:\n",
    "    for line in (file.readlines()[-n:]):\n",
    "        print(line,end=\"\")"
   ]
  },
  {
   "cell_type": "code",
   "execution_count": 1,
   "metadata": {},
   "outputs": [
    {
     "name": "stdout",
     "output_type": "stream",
     "text": [
      "['hello i am farhan \\n', 'i am b.tech student of 4th year \\n', 'i am able to any IT job\\n', 'my dream is to learn and teach other']\n"
     ]
    }
   ],
   "source": [
    "# 5. Write a Python program to read a file line by line and store it into a list.  \n",
    "with open(\"k.txt\",\"r\") as file:\n",
    "    print(file.readlines())"
   ]
  },
  {
   "cell_type": "code",
   "execution_count": 1,
   "metadata": {},
   "outputs": [
    {
     "name": "stdout",
     "output_type": "stream",
     "text": [
      "hello i am farhan \n",
      "i am b.tech student of 4th year \n",
      "i am able to any IT job\n",
      "my dream is to learn and teach other\n"
     ]
    }
   ],
   "source": [
    "# 6. Write a Python program to read a file line by line store it into a variable.  \n",
    "with open(\"k.txt\",\"r\") as file:\n",
    "    data=file.read()\n",
    "    print(data)"
   ]
  },
  {
   "cell_type": "code",
   "execution_count": 11,
   "metadata": {},
   "outputs": [
    {
     "name": "stdout",
     "output_type": "stream",
     "text": [
      "['hello i am farhan  i am b', 'tech student of 4th year  i am able to any IT job my dream is to learn and teach other']\n"
     ]
    }
   ],
   "source": [
    "# 7. Write a Python program to read a file line by line store it into a list.  \n",
    "with open(\"k.txt\",\"r\") as file:\n",
    "    data=file.read()\n",
    "    print(data.split(\"\\n\"))"
   ]
  },
  {
   "cell_type": "code",
   "execution_count": 36,
   "metadata": {},
   "outputs": [],
   "source": [
    "# 8. Write a python program to find the longest words of a file.  **\n",
    "with open(\"k.txt\",\"r\") as file:\n",
    "    data=file.read().split()\n",
    "    # longet_word=len(max(data))"
   ]
  },
  {
   "cell_type": "code",
   "execution_count": 20,
   "metadata": {},
   "outputs": [
    {
     "name": "stdout",
     "output_type": "stream",
     "text": [
      "Total no of line in python file is =  4\n"
     ]
    }
   ],
   "source": [
    "# 9. Write a Python program to count the number of lines in a text file. \n",
    "with open(\"k.txt\",\"r\") as file:\n",
    "    count=0\n",
    "    for line in  file.readlines():\n",
    "        count+=1\n",
    "        # print(line)\n",
    "print(\"Total no of line in python file is = \",count)    "
   ]
  },
  {
   "cell_type": "code",
   "execution_count": 36,
   "metadata": {},
   "outputs": [
    {
     "name": "stdout",
     "output_type": "stream",
     "text": [
      "{'hello': 1}\n",
      "{'i': 3}\n",
      "{'am': 3}\n",
      "{'farhan': 1}\n",
      "{'i': 3}\n",
      "{'am': 3}\n",
      "{'b.tech': 1}\n",
      "{'student': 1}\n",
      "{'of': 1}\n",
      "{'4th': 1}\n",
      "{'year': 1}\n",
      "{'i': 3}\n",
      "{'am': 3}\n",
      "{'able': 1}\n",
      "{'to': 2}\n",
      "{'any': 1}\n",
      "{'IT': 1}\n",
      "{'job': 1}\n",
      "{'my': 1}\n",
      "{'dream': 1}\n",
      "{'is': 1}\n",
      "{'to': 2}\n",
      "{'learn': 1}\n",
      "{'and': 1}\n",
      "{'teach': 1}\n",
      "{'other': 1}\n"
     ]
    }
   ],
   "source": [
    "# 10. Write a Python program to count the frequency of words in a file.  **\n",
    "with open(\"k.txt\",\"r\") as file:\n",
    "    data=file.read().split()\n",
    "    for word in data:\n",
    "        print({word:data.count(word)})\n",
    "        "
   ]
  },
  {
   "cell_type": "code",
   "execution_count": 35,
   "metadata": {},
   "outputs": [
    {
     "name": "stdout",
     "output_type": "stream",
     "text": [
      "192\n"
     ]
    }
   ],
   "source": [
    "# 11. Write a Python program to get the file size of a plain file.  \n",
    "with open(\"k.txt\",\"r\") as file:\n",
    "    print(file.__sizeof__())"
   ]
  },
  {
   "cell_type": "code",
   "execution_count": 47,
   "metadata": {},
   "outputs": [],
   "source": [
    "# 12. Write a Python program to write a list to a file.  \n",
    "with open(\"kwrite.txt\",\"w\") as file:\n",
    "    list=[\"farhan\",\"pasha\",\"abdul\",\"azaj\"]\n",
    "    for i in list:\n",
    "        file.write(i+\"\\n\")\n",
    "    "
   ]
  },
  {
   "cell_type": "code",
   "execution_count": 49,
   "metadata": {},
   "outputs": [],
   "source": [
    "# 13. Write a Python program to copy the contents of a file to another  file . \n",
    "with open(\"k.txt\",\"r\") as file:\n",
    "    data=file.read()\n",
    "with open(\"t.txt\",\"w\") as f2:\n",
    "    f2.write(data) \n",
    "    \n",
    "     \n"
   ]
  },
  {
   "cell_type": "code",
   "execution_count": 58,
   "metadata": {},
   "outputs": [
    {
     "name": "stdout",
     "output_type": "stream",
     "text": [
      "['hello i am farhan \\n', 'i am b.tech student of 4th year \\n', 'i am able to any IT job\\n', 'my dream is to learn and teach other']\n",
      "['hello i am adulla\\n', 'i read in class  \\n', 'i am able for  any mobile game\\n', 'my dream is not define till know']\n"
     ]
    }
   ],
   "source": [
    "# 14. Write a Python program to combine each line from first file with the corresponding line in second file. *** \n",
    "with open(\"file1.txt\",\"r\") as file1:\n",
    "     print(file1.readlines())\n",
    "with open(\"file2.txt\",\"r\") as file2:\n",
    "     print(file2.readlines()) \n",
    "     \n",
    "with open(\"file3.txt\",\"w\") as file3:\n",
    "     print(file3.write())        "
   ]
  },
  {
   "cell_type": "code",
   "execution_count": 34,
   "metadata": {},
   "outputs": [
    {
     "name": "stdout",
     "output_type": "stream",
     "text": [
      "['farhan', 'pasha', 'abdul', 'azaj']\n",
      "pasha\n"
     ]
    }
   ],
   "source": [
    "# 15. Write a Python program to read a random line from a file.\n",
    "import random  \n",
    "with open(\"kwrite.txt\",\"r\") as file:\n",
    "    data=file.read().split()\n",
    "    print(data)\n",
    "    print(random.choice(data))\n",
    "    "
   ]
  },
  {
   "cell_type": "code",
   "execution_count": 21,
   "metadata": {},
   "outputs": [
    {
     "name": "stdout",
     "output_type": "stream",
     "text": [
      "False\n",
      "True\n"
     ]
    }
   ],
   "source": [
    "# 16. Write a Python program to assess if a file is closed or not.**  \n",
    "with open(\"k.txt\",\"r\") as file:\n",
    "     print(file.closed)\n",
    "file.close()\n",
    "print(file.closed)     "
   ]
  },
  {
   "cell_type": "code",
   "execution_count": 65,
   "metadata": {},
   "outputs": [
    {
     "name": "stdout",
     "output_type": "stream",
     "text": [
      "hello i am farhan \n",
      "i am b.tech student of 4th year \n",
      "i am able to any IT job\n",
      "my dream is to learn and teach other\n",
      "hello i am farhan i am b.tech student of 4th year i am able to any IT jobmy dream is to learn and teach other\n"
     ]
    }
   ],
   "source": [
    "# 17. Write a Python program to remove newline characters from a file. ** \n",
    "with open(\"t.txt\",\"r\") as file:\n",
    "    data=file.read()\n",
    "    print(data)\n",
    "    file.flush()\n",
    "    print(data.replace(\"\\n\",\"\"))\n"
   ]
  },
  {
   "cell_type": "code",
   "execution_count": 3,
   "metadata": {},
   "outputs": [
    {
     "name": "stdout",
     "output_type": "stream",
     "text": [
      "NO of given word in file  26\n"
     ]
    }
   ],
   "source": [
    "# 18. Write a Python program that takes a text file as input and returns the number of words of a given text file.  \n",
    "\n",
    "# Note: Some words can be separated by a comma with no space.\n",
    "\n",
    "with open(\"k.txt\",\"r\") as file:\n",
    "    data=file.read().split()\n",
    "    count=0\n",
    "    for i in data:\n",
    "        count+=1\n",
    "print(\"NO of given word in file \",count)        "
   ]
  },
  {
   "cell_type": "code",
   "execution_count": null,
   "metadata": {},
   "outputs": [],
   "source": [
    "# 19. Write a Python program to extract characters from various text files and puts them into a list.  **\n"
   ]
  },
  {
   "cell_type": "code",
   "execution_count": 19,
   "metadata": {},
   "outputs": [],
   "source": [
    "# 20. Write a Python program to generate 26 text files named A.txt, B.txt, and so on up to Z.txt. \n",
    "for i in range(65,91):\n",
    "   with open(f\"{chr(i)}.txt\",\"w\") as file: \n",
    "        pass\n",
    "             \n",
    "\n",
    "   \n",
    "       \n"
   ]
  },
  {
   "cell_type": "code",
   "execution_count": null,
   "metadata": {},
   "outputs": [],
   "source": [
    "# 21. Write a Python program to create a file where all letters of English alphabet are listed by specified number of letters on each line. ** \n"
   ]
  }
 ],
 "metadata": {
  "kernelspec": {
   "display_name": "Python 3",
   "language": "python",
   "name": "python3"
  },
  "language_info": {
   "codemirror_mode": {
    "name": "ipython",
    "version": 3
   },
   "file_extension": ".py",
   "mimetype": "text/x-python",
   "name": "python",
   "nbconvert_exporter": "python",
   "pygments_lexer": "ipython3",
   "version": "3.10.10"
  },
  "orig_nbformat": 4
 },
 "nbformat": 4,
 "nbformat_minor": 2
}
