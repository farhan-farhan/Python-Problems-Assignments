{
 "cells": [
  {
   "attachments": {},
   "cell_type": "markdown",
   "metadata": {},
   "source": [
    "1. Write a Python program to create a set. \n",
    "2. Write a Python program to iteration over sets.\n",
    "3. Write a Python program to add member(s) in a set.\n",
    "4. Write a Python program to remove item(s) from set\n",
    "5. Write a Python program to remove an item from a set if it is present in the set.\n",
    "6. Write a Python program to create an intersection of sets.\n",
    "7. Write a Python program to create a union of sets. \n",
    "8. Write a Python program to create set difference. \n",
    "9. Write a Python program to create a symmetric difference.\n",
    "10. Write a Python program to create a shallow copy of sets.\n",
    "11. Write a Python program to clear a set.\n",
    "12. Write a Python program to use of frozenset.\n",
    "13. Write a Python program to find maximum and the minimum value in a set.\n",
    "14. Write a Python program to find the length of a set\n",
    "\n"
   ]
  },
  {
   "cell_type": "code",
   "execution_count": null,
   "metadata": {},
   "outputs": [],
   "source": [
    "# 1. Write a Python program to create a set. \n",
    "set ={1,2,4}\n",
    "print(set,type(set))\n",
    "\n",
    "# set={i*i for i in range(1,5)}\n",
    "# print(set)"
   ]
  },
  {
   "cell_type": "code",
   "execution_count": null,
   "metadata": {},
   "outputs": [],
   "source": [
    "\n",
    "# 2. Write a Python program to iteration over sets.\n",
    "# set={3,7,4,8,9,0,45,57}\n",
    "# for i in set:\n",
    "#     print(i)"
   ]
  },
  {
   "cell_type": "code",
   "execution_count": null,
   "metadata": {},
   "outputs": [],
   "source": [
    "# 3. Write a Python program to add member(s) in a set.\n",
    "# set={3,7,4,8,9,0,45,57}\n",
    "# set.add(24)\n",
    "# print(set)"
   ]
  },
  {
   "cell_type": "code",
   "execution_count": null,
   "metadata": {},
   "outputs": [],
   "source": [
    "\n",
    "# 4. Write a Python program to remove item(s) from set\n",
    "# set={3,7,4,8,9,0,45,57}\n",
    "# set.remove(9)\n",
    "# print(set)"
   ]
  },
  {
   "cell_type": "code",
   "execution_count": null,
   "metadata": {},
   "outputs": [],
   "source": [
    "# 5. Write a Python program to remove an item from a set if it is present in the set.\n",
    "\n",
    "# set={3,7,4,8,9,0,45,57}\n",
    "# if 9 in set:\n",
    "#   set.remove(9)\n",
    "#   print(set)"
   ]
  },
  {
   "cell_type": "code",
   "execution_count": null,
   "metadata": {},
   "outputs": [],
   "source": [
    "\n",
    "# 6. Write a Python program to create an intersection of sets.\n",
    "\n",
    "# s1={1,4,6,8,6}\n",
    "# s2={9,3,45,9,6}\n",
    "# print(s1.intersection(s2))"
   ]
  },
  {
   "cell_type": "code",
   "execution_count": null,
   "metadata": {},
   "outputs": [],
   "source": [
    "\n",
    "# 7. Write a Python program to create a union of sets.\n",
    "\n",
    "# s1={1,4,6,8,6}\n",
    "# s2={9,3,45,9,6}\n",
    "# print(s1.union(s2)) "
   ]
  },
  {
   "cell_type": "code",
   "execution_count": null,
   "metadata": {},
   "outputs": [],
   "source": [
    "\n",
    "# 8. Write a Python program to create set difference. \n",
    "\n",
    "# s1={1,4,6,8,6}\n",
    "# s2={9,3,45,9,6}\n",
    "# print(s1.difference(s2)) \n",
    "# print(s2.difference(s1)) "
   ]
  },
  {
   "cell_type": "code",
   "execution_count": null,
   "metadata": {},
   "outputs": [],
   "source": [
    "# 9. Write a Python program to create a symmetric difference.\n",
    "'''The set  which contain element which  are either in set A or in  set B but not in both\n",
    "is colled a symmetric differance between two set'''\n",
    "\n",
    "# s1={1,2,3,4}\n",
    "# s2={3,4,5,6}\n",
    "# print(s1.symmetric_difference(s2))# or print(s2.symmetric_difference(s1))"
   ]
  },
  {
   "cell_type": "code",
   "execution_count": null,
   "metadata": {},
   "outputs": [],
   "source": [
    "\n",
    "# 10. Write a Python program to create a shallow copy of sets.\n",
    "\n",
    "A=[1,4,6,5,[8,9,10]]\n",
    "B=A        #refrance copy\n",
    "C=A.copy() # shallow copy\n",
    "\n",
    "import copy\n",
    "deep_copy=copy.deepcopy(A)\n",
    "print(A)\n",
    "print(B)\n",
    "print(C)\n",
    "print(deep_copy)\n",
    "\n",
    "A[0]=100\n",
    "A[-1][0]=400\n",
    "\n",
    "print(A)\n",
    "print(\"Refrance copy\",B)\n",
    "print(\"Shallow copy\",C)\n",
    "print(\"Deepcopy\",deep_copy)\n"
   ]
  },
  {
   "cell_type": "code",
   "execution_count": null,
   "metadata": {},
   "outputs": [],
   "source": [
    "\n",
    "\n",
    "# 11. Write a Python program to clear a set.\n",
    "\n",
    "# s1={1,4,6,8,6}\n",
    "# print(s1.clear())"
   ]
  },
  {
   "cell_type": "code",
   "execution_count": null,
   "metadata": {},
   "outputs": [],
   "source": [
    "\n",
    "\n",
    "\n",
    "# 12. Write a Python program to use of frozenset.\n",
    "\n",
    "# s1={1,4,6,8,6}\n",
    "# print(frozenset(s1))"
   ]
  },
  {
   "cell_type": "code",
   "execution_count": null,
   "metadata": {},
   "outputs": [],
   "source": [
    "\n",
    "\n",
    "# 13. Write a Python program to find maximum and the minimum value in a set.\n",
    "\n",
    "# s1={1,4,6,8,6}\n",
    "# print(max(s1))\n",
    "# print(min(s1))"
   ]
  },
  {
   "cell_type": "code",
   "execution_count": null,
   "metadata": {},
   "outputs": [],
   "source": [
    "\n",
    "# 14. Write a Python program to find the length of a set\n",
    "# s1={1,4,6,8,6}\n",
    "# print(len(s1))"
   ]
  }
 ],
 "metadata": {
  "language_info": {
   "name": "python"
  },
  "orig_nbformat": 4
 },
 "nbformat": 4,
 "nbformat_minor": 2
}
