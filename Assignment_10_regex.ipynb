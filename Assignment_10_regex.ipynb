{
 "cells": [
  {
   "attachments": {},
   "cell_type": "markdown",
   "metadata": {},
   "source": [
    "1. Write a Python program to check that a string contains only a certain set of characters (in this case a-z, A-Z and 0-9). \n",
    "\n",
    "2. Write a Python program that matches a string that has an a followed by zero or more b's. \n",
    "\n",
    "3. Write a Python program that matches a string that has an a followed by one or more b's. \n",
    "\n",
    "4. Write a Python program that matches a string that has an a followed by zero or one 'b'. \n",
    "\n",
    "5. Write a Python program that matches a string that has an a followed by three 'b'. \n",
    "\n",
    "6. Write a Python program that matches a string that has an a followed by two to three 'b'. \n",
    "\n",
    "7. Write a Python program to find sequences of lowercase letters joined with an underscore. \n",
    "\n",
    "8. Write a Python program to find the sequences of one upper case letter followed by lower case letters. \n",
    "\n",
    "9. Write a Python program that matches a string that has an 'a' followed by anything, ending in 'b'. \n",
    "\n",
    "10. Write a Python program that matches a word at the beginning of a string. \n",
    "\n",
    "11. Write a Python program that matches a word at the end of string, with optional punctuation. \n",
    "\n",
    "12. Write a Python program that matches a word containing 'z'. \n",
    "\n",
    "13. Write a Python program that matches a word containing 'z', not at the start or end of the word. \n",
    "\n",
    "14. Write a Python program to match a string that contains only upper and lowercase letters, numbers, and underscores. \n",
    "\n",
    "15. Write a Python program where a string will start with a specific number. \n",
    "\n",
    "16. Write a Python program to remove leading zeros from an IP address. \n",
    "\n",
    "17. Write a Python program to check for a number at the end of a string. \n",
    "\n",
    "18. Write a Python program to search the numbers (0-9) of length between 1 to 3 in a given string. \n",
    "\n",
    "\"Exercises number 1, 12, 13, and 345 are important\"\n",
    "\n",
    "19. Write a Python program to search some literals strings in a string. \n",
    "Sample text : 'The quick brown fox jumps over the lazy dog.'\n",
    "Searched words : 'fox', 'dog', 'horse'\n",
    "\n",
    "20. Write a Python program to search a literals string in a string and also find the location within the original string where the pattern occurs. \n",
    "Sample text : 'The quick brown fox jumps over the lazy dog.'\n",
    "Searched words : 'fox'\n",
    "\n",
    "21. Write a Python program to find the substrings within a string. \n",
    "Sample text :\n",
    "'Python exercises, PHP exercises, C# exercises'\n",
    "Pattern :\n",
    "'exercises'\n",
    "Note: There are two instances of exercises in the input string.\n",
    "\n",
    "22. Write a Python program to find the occurrence and position of the substrings within a string. \n",
    "\n",
    "23. Write a Python program to replace whitespaces with an underscore and vice versa. \n",
    "\n",
    "24. Write a Python program to extract year, month and date from anurl. \n",
    "\n",
    "25. Write a Python program to convert a date of yyyy-mm-dd format to dd-mm-yyyy format. \n",
    "\n",
    "26. Write a Python program to match if two words from a list of words starting with letter 'P'. \n",
    "\n",
    "27. Write a Python program to separate and print the numbers of a given string. \n",
    "\n",
    "28. Write a Python program to find all words starting with 'a' or 'e' in a given string. \n",
    "\n",
    "29. Write a Python program to separate and print the numbers and their position of a given string. \n",
    "\n",
    "30. Write a Python program to abbreviate 'Road' as 'Rd.' in a given string. \n",
    "\n",
    "31. Write a Python program to replace all occurrences of space, comma, or dot with a colon. \n",
    "\n",
    "32. Write a Python program to replace maximum 2 occurrences of space, comma, or dot with a colon. \n",
    "\n",
    "33. Write a Python program to find all five characters long word in a string. \n",
    "\n",
    "34. Write a Python program to find all three, four, five characters long words in a string. \n",
    "\n",
    "35. Write a Python program to find all words which are at least 4 characters long in a string. \n",
    "\n",
    "36. Write a python program to convert camel case string to snake case string. \n",
    "\n",
    "37. Write a python program to convert snake case string to camel case string. \n",
    "\n",
    "38. Write a Python program to extract values between quotation marks of a string. \n",
    "\n",
    "39. Write a Python program to remove multiple spaces in a string. \n",
    "\n",
    "40. Write a Python program to remove all whitespaces from a string. \n",
    "\n",
    "41. Write a Python program to remove everything except alphanumeric characters from a string. \n",
    "\n",
    "42. Write a Python program to find urls in a string. \n",
    "\n",
    "43. Write a Python program to split a string at uppercase letters. \n",
    "\n",
    "44. Write a Python program to do a case-insensitive string replacement. "
   ]
  },
  {
   "cell_type": "code",
   "execution_count": 1,
   "metadata": {},
   "outputs": [
    {
     "name": "stdout",
     "output_type": "stream",
     "text": [
      "['P', 'y', 't', 'h', 'o', 'n', 'i', 's', 'a', 'f', 'u', 'n', 'n', 'y', 'l', 'a', 'n', 'g', 'u', 'a', 'g', 'e', 'c', 'r', 'e', 'a', 't', 'e', 'd', 'b', 'y', 'G', 'u', 'i', 'd', 'o', 'V', 'A', 'N', 'R', 'o', 's', 's', 'u', 'm', 'i', 's', 't', 'u', 'd', 'y', 'p', 'y', 't', 'h', 'o', 'n', 'i', 't', 'i', 's', 'e', 'a', 's', 'y', 't', 'o', 'l', 'e', 'a', 'r', 'n']\n"
     ]
    }
   ],
   "source": [
    "# 1. Write a Python program to check that a string contains only a certain set of characters (in this case a-z, A-Z and 0-9). \n",
    "\n",
    "text=\"\"\"Python is a funny language created by Guido VAN Rossum.\n",
    "i study python.it is easy to learn.\"\"\"\n",
    "import re\n",
    "print(re.findall(\"[a-zA-Z0-9]\",text))\n"
   ]
  },
  {
   "cell_type": "code",
   "execution_count": 35,
   "metadata": {},
   "outputs": [
    {
     "name": "stdout",
     "output_type": "stream",
     "text": [
      "['a', 'a', 'a', 'a', 'abb', 'a', 'a']\n"
     ]
    }
   ],
   "source": [
    "# 2. Write a Python program that matches a string that has an a followed by zero or more b's. \n",
    "\n",
    "text=\"\"\"Python is a funny language created by abb Guido VAN Rossum.\n",
    "i study python.it is easy to learn. lobn\"\"\"\n",
    "import re\n",
    "print(re.findall('ab*',text))"
   ]
  },
  {
   "cell_type": "code",
   "execution_count": 34,
   "metadata": {},
   "outputs": [
    {
     "name": "stdout",
     "output_type": "stream",
     "text": [
      "['ab', 'abb', 'abb']\n"
     ]
    }
   ],
   "source": [
    "# 3. Write a Python program that matches a string that has an a followed by one or more b's. \n",
    "\n",
    "text=\"\"\"found abgh  abbc aabbc\"\"\"\n",
    "import re\n",
    "print(re.findall('ab+',text))"
   ]
  },
  {
   "cell_type": "code",
   "execution_count": 30,
   "metadata": {},
   "outputs": [
    {
     "name": "stdout",
     "output_type": "stream",
     "text": [
      "['a', 'a', 'a', 'a', 'ab', 'a', 'a', 'ab', 'a', 'ab']\n"
     ]
    }
   ],
   "source": [
    "# 4. Write a Python program that matches a string that has an a followed by zero or one 'b'.  # (a ke sath koi b na ho ya ek b ho) \n",
    "text=\"\"\"Python is a funny language created by abb Guido VAN Rossum.\n",
    "i study python.it is easy to learn. lobn   abbc aabbc\"\"\"\n",
    "import re\n",
    "print(re.findall('ab{0,1}',text))"
   ]
  },
  {
   "cell_type": "code",
   "execution_count": 28,
   "metadata": {},
   "outputs": [
    {
     "name": "stdout",
     "output_type": "stream",
     "text": [
      "<re.Match object; span=(23, 27), match='abbb'>\n"
     ]
    }
   ],
   "source": [
    "# 5. Write a Python program that matches a string that has an a followed by three 'b'. \n",
    "\n",
    "text=\"\"\"found abgh  abbc aabbc abbb\"\"\"\n",
    "import re\n",
    "print(re.search('ab{3}',text))"
   ]
  },
  {
   "cell_type": "code",
   "execution_count": 27,
   "metadata": {},
   "outputs": [
    {
     "name": "stdout",
     "output_type": "stream",
     "text": [
      "['abb', 'abb', 'abbb']\n"
     ]
    }
   ],
   "source": [
    "# 6. Write a Python program that matches a string that has an a followed by two to three 'b'. \n",
    "\n",
    "text=\"\"\"found abgh  abbc aabbc abbb\"\"\"\n",
    "import re\n",
    "print(re.findall('ab{2,3}',text))"
   ]
  },
  {
   "cell_type": "code",
   "execution_count": 37,
   "metadata": {},
   "outputs": [
    {
     "name": "stdout",
     "output_type": "stream",
     "text": [
      "['to_we']\n"
     ]
    }
   ],
   "source": [
    "# 7. Write a Python program to find sequences of lowercase letters joined with an underscore. \n",
    "text=\"\"\"Python is a funny language created by Guido VAN Rossum.\n",
    "i study python.it is easy to_we learn. lobn\"\"\"\n",
    "import re\n",
    "print(re.findall(\"[a-z]+_[a-z]+\",text))"
   ]
  },
  {
   "cell_type": "code",
   "execution_count": 38,
   "metadata": {},
   "outputs": [
    {
     "name": "stdout",
     "output_type": "stream",
     "text": [
      "['Python', 'Guido', 'Rossum']\n"
     ]
    }
   ],
   "source": [
    "# 8. Write a Python program to find the sequences of one upper case letter followed by lower case letters. \n",
    "text=\"\"\"Python is a funny language created by Guido VAN Rossum.\n",
    "i study python.it is easy to_ learn. lobn\"\"\"\n",
    "import re\n",
    "print(re.findall(\"[A-Z][a-z]+\",text))"
   ]
  },
  {
   "cell_type": "code",
   "execution_count": 79,
   "metadata": {},
   "outputs": [
    {
     "name": "stdout",
     "output_type": "stream",
     "text": [
      "[]\n",
      "[]\n"
     ]
    }
   ],
   "source": [
    "# 9. Write a Python program that matches a string that has an 'a' followed by anything, ending in 'b'.*** \n",
    "text=\"\"\"Python asb a funny language created by Guido VAN Rossum.\n",
    "i study python.it is easy to_ learn.lamb lobn\n",
    "a@b a#b a$b a a^b a&b a*b a()b a_ a+ a~ a!b a\"\"\"\n",
    "import re\n",
    "print(re.findall(r'a[a-zA-Z0-9@#$%^&*()_+]+[b]$',text))\n",
    "print(re.findall(r\"a[a-z]*[b]$\",text))\n",
    "# print(re.findall('a+[b]$',text))"
   ]
  },
  {
   "cell_type": "code",
   "execution_count": 80,
   "metadata": {},
   "outputs": [
    {
     "name": "stdout",
     "output_type": "stream",
     "text": [
      "<re.Match object; span=(58, 63), match='study'>\n"
     ]
    }
   ],
   "source": [
    "# 10. Write a Python program that matches a word at the beginning of a string. \n",
    "text=\"\"\"Python is a funny language created by Guido VAN Rossum.\n",
    "i study python.it is easy to_ learn.lamb study lobn . I study python right know\"\"\"\n",
    "import re\n",
    "print(re.search(\"study\",text))"
   ]
  },
  {
   "cell_type": "code",
   "execution_count": 87,
   "metadata": {},
   "outputs": [
    {
     "name": "stdout",
     "output_type": "stream",
     "text": [
      "[]\n"
     ]
    }
   ],
   "source": [
    "# 11. Write a Python program that matches a word at the end of string, with optional punctuation. \n",
    "text=\"\"\"Python is a funny language created by Guido VAN Rossum.\n",
    "i study python.it is easy to_ learn.lamb study lobn\"\"\"\n",
    "import re\n",
    "# print(r(\"study$\",text))"
   ]
  },
  {
   "cell_type": "code",
   "execution_count": 40,
   "metadata": {},
   "outputs": [
    {
     "name": "stdout",
     "output_type": "stream",
     "text": [
      "['zoom', 'lazy']\n"
     ]
    }
   ],
   "source": [
    "# 12. Write a Python program that matches a word containing 'z'. \n",
    "text=\"\"\"The sean see in zoom. The quick fox jump over the lazy dog.\"\"\"\n",
    "import re\n",
    "print(re.findall(\"\\w*z.\\w*\",text))"
   ]
  },
  {
   "cell_type": "code",
   "execution_count": 98,
   "metadata": {},
   "outputs": [
    {
     "name": "stdout",
     "output_type": "stream",
     "text": [
      "None\n"
     ]
    }
   ],
   "source": [
    "# 13. Write a Python program that matches a word containing 'z', not at the start or end of the word. \n",
    "text=\"\"\"The sean see in zoom . The quick fox jump over the lazy dog.\"\"\"\n",
    "import re\n",
    "# print(re.search(\"\\wz.\\w\",text))"
   ]
  },
  {
   "cell_type": "code",
   "execution_count": 101,
   "metadata": {},
   "outputs": [
    {
     "name": "stdout",
     "output_type": "stream",
     "text": [
      "None\n"
     ]
    }
   ],
   "source": [
    "# 14. Write a Python program to match a string that contains only upper and lowercase letters, numbers, and underscores. \n",
    "text=\"\"\"The sean see in Ato_h. The quick fox jump over the lazy dog.\"\"\"\n",
    "import re\n",
    "print(re.search(r'a-zA-Z0-9_',text))"
   ]
  },
  {
   "cell_type": "code",
   "execution_count": null,
   "metadata": {},
   "outputs": [],
   "source": [
    "# 15. Write a Python program where a string will start with a specific number. \n"
   ]
  },
  {
   "cell_type": "code",
   "execution_count": null,
   "metadata": {},
   "outputs": [],
   "source": [
    "# 16. Write a Python program to remove leading zeros from an IP address. \n"
   ]
  },
  {
   "cell_type": "code",
   "execution_count": null,
   "metadata": {},
   "outputs": [],
   "source": [
    "# 17. Write a Python program to check for a number at the end of a string. \n"
   ]
  },
  {
   "cell_type": "code",
   "execution_count": 29,
   "metadata": {},
   "outputs": [
    {
     "name": "stdout",
     "output_type": "stream",
     "text": [
      "['345']\n"
     ]
    }
   ],
   "source": [
    "\n",
    "# 18. Write a Python program to search the numbers (0-9) of length between 1 to 3 in a given string. \n",
    "\n",
    "# \"Exercises number 1, 12, 13, and 345 are important\"\n",
    "text =\"\"\" 1 ,12,13,345\"\"\"\n",
    "import re\n",
    "print(re.findall(\"[0-9]{3}\",text))\n"
   ]
  },
  {
   "cell_type": "code",
   "execution_count": null,
   "metadata": {},
   "outputs": [],
   "source": [
    "\n",
    "# 19. Write a Python program to search some literals strings in a string. \n",
    "# Sample text : 'The quick brown fox jumps over the lazy dog.'\n",
    "# Searched words : 'fox', 'dog', 'horse'\n",
    "txt= 'The quick brown fox jumps over the lazy dog.'\n",
    "import re\n",
    "print(re.findall( ['fox', 'dog', 'horse'],txt))"
   ]
  },
  {
   "cell_type": "code",
   "execution_count": 34,
   "metadata": {},
   "outputs": [
    {
     "name": "stdout",
     "output_type": "stream",
     "text": [
      "<callable_iterator object at 0x0000023037F31DE0>\n"
     ]
    }
   ],
   "source": [
    "# 20. Write a Python program to search a literals string in a string and also find the location within the original string where the pattern occurs. \n",
    "# Sample text : 'The quick brown fox jumps over the lazy dog.'\n",
    "# Searched words : 'fox'\n",
    "text='The quick brown fox jumps over the lazy dog.'\n",
    "import re\n",
    "print(re.finditer(\"fox\",text))\n"
   ]
  },
  {
   "cell_type": "code",
   "execution_count": 4,
   "metadata": {},
   "outputs": [
    {
     "name": "stdout",
     "output_type": "stream",
     "text": [
      "['exercises', 'exercises', 'exercises']\n",
      "<re.Match object; span=(7, 16), match='exercises'>\n",
      "<re.Match object; span=(22, 31), match='exercises'>\n",
      "<re.Match object; span=(36, 45), match='exercises'>\n"
     ]
    }
   ],
   "source": [
    "# 21. Write a Python program to find the substrings within a string. \n",
    "# Sample text :\n",
    "# 'Python exercises, PHP exercises, C# exercises'\n",
    "# Pattern :\n",
    "# 'exercises'\n",
    "# Note: There are two instances of exercises in the input string.\n",
    "\n",
    "text='Python exercises, PHP exercises, C# exercises'\n",
    "import re\n",
    "print(re.findall('exercises',text))\n",
    "# for i in re.finditer('exercises',text):\n",
    "#     print(i)"
   ]
  },
  {
   "cell_type": "code",
   "execution_count": 12,
   "metadata": {},
   "outputs": [
    {
     "name": "stdout",
     "output_type": "stream",
     "text": [
      "<re.Match object; span=(16, 19), match='fox'>\n"
     ]
    }
   ],
   "source": [
    "# 22. Write a Python program to find the occurrence and position of the substrings within a string. \n",
    "text='The quick brown fox jumps over the lazy dog.'\n",
    "import re\n",
    "print(re.search(\"fox\",text))"
   ]
  },
  {
   "cell_type": "code",
   "execution_count": 25,
   "metadata": {},
   "outputs": [
    {
     "name": "stdout",
     "output_type": "stream",
     "text": [
      "The_quick_brown_fox_jumps_over_the_lazy_dog.\n",
      "The quick brown fox jumps over the lazy dog.\n"
     ]
    }
   ],
   "source": [
    "# 23. Write a Python program to replace whitespaces with an underscore and vice versa. \n",
    "text='The quick brown_fox jumps over the lazy dog.'\n",
    "import re\n",
    "text=text.replace(\" \",\"_\")\n",
    "print(text)\n",
    "text=text.replace(\"_\",\" \")\n",
    "print(text)\n"
   ]
  },
  {
   "cell_type": "code",
   "execution_count": null,
   "metadata": {},
   "outputs": [],
   "source": [
    "# 24. Write a Python program to extract year, month and date from anurl. \n",
    "import re\n",
    "print(re.findall(\"\\d{4}/\\d{1,2}/\\d{1,2}\"),\"https://time.is/IST#:~:text=Time%20zone%3A%20India%20Standard%20Time%20%28IST%29%20UTC%20%2B5%3A30,when%20New%20York%20is%20on%20daylight%20saving%20time.\")\n"
   ]
  },
  {
   "cell_type": "code",
   "execution_count": null,
   "metadata": {},
   "outputs": [],
   "source": [
    "# 25. Write a Python program to convert a date of yyyy-mm-dd format to dd-mm-yyyy format. \n",
    "text=\"2-5-2023\"\n"
   ]
  },
  {
   "cell_type": "code",
   "execution_count": 29,
   "metadata": {},
   "outputs": [
    {
     "name": "stdout",
     "output_type": "stream",
     "text": [
      "None\n"
     ]
    }
   ],
   "source": [
    "# 26. Write a Python program to match if two words from a list of words starting with letter 'P'. \n",
    "text='The quick brown_fox jumps over the lazy dog.'\n",
    "import re\n",
    "print(re.match(\"\\W[p]*\",text))"
   ]
  },
  {
   "cell_type": "code",
   "execution_count": 38,
   "metadata": {},
   "outputs": [
    {
     "name": "stdout",
     "output_type": "stream",
     "text": [
      "9\n"
     ]
    }
   ],
   "source": [
    "# 27. Write a Python program to separate and print the numbers of a given string. \n",
    "text='The quick brown fox jumps over the lazy dog.'\n",
    "import re\n",
    "word=text.split()\n",
    "count=0\n",
    "for i in word:\n",
    "    count=count+1\n",
    "print(count)"
   ]
  },
  {
   "cell_type": "code",
   "execution_count": 59,
   "metadata": {},
   "outputs": [
    {
     "name": "stdout",
     "output_type": "stream",
     "text": [
      "['er', 'azy', 'adam', 'efadot']\n"
     ]
    }
   ],
   "source": [
    "# 28. Write a Python program to find all words starting with 'a' or 'e' in a given string. \n",
    "text='The quick brown fox jumps over the lazy dog adam efadot.'\n",
    "import re\n",
    "print(re.findall(\"[ae]\\w+\",text))"
   ]
  },
  {
   "cell_type": "code",
   "execution_count": null,
   "metadata": {},
   "outputs": [],
   "source": [
    "# 29. Write a Python program to separate and print the numbers and their position of a given string. \n"
   ]
  },
  {
   "cell_type": "code",
   "execution_count": 60,
   "metadata": {},
   "outputs": [
    {
     "name": "stdout",
     "output_type": "stream",
     "text": [
      "jumna Rd  nanital Rd  kumbh Rd\n"
     ]
    }
   ],
   "source": [
    "# 30. Write a Python program to abbreviate 'Road' as 'Rd.' in a given string. \n",
    "text =\"\"\"jumna Road  nanital Road  kumbh Road\"\"\"\n",
    "import re\n",
    "print(re.sub(\"Road\",\"Rd\",text))"
   ]
  },
  {
   "cell_type": "code",
   "execution_count": 71,
   "metadata": {},
   "outputs": [
    {
     "name": "stdout",
     "output_type": "stream",
     "text": [
      "The:quick:brown:fox:jumps:over:the.:lazy:dog:adam:efadot.\n",
      "The:quick:brown:fox:jumps:over:the::lazy:dog:adam:efadot:\n"
     ]
    }
   ],
   "source": [
    "# 31. Write a Python program to replace all occurrences of space, comma, or dot with a colon. \n",
    "text=\"\"\"The quick brown fox jumps over the.\n",
    "lazy dog adam efadot.\"\"\"\n",
    "import re\n",
    "# print(re.sub(\"\\s\",\":\",text))\n",
    "print(re.sub(\"[ \\n.]\",\":\",text))"
   ]
  },
  {
   "cell_type": "code",
   "execution_count": 73,
   "metadata": {},
   "outputs": [
    {
     "name": "stdout",
     "output_type": "stream",
     "text": [
      "The:quick:brown:fox:jumps:over:the:lazy:dog:adam:efadot:\n"
     ]
    }
   ],
   "source": [
    "# 32. Write a Python program to replace maximum 2 occurrences of space, comma, or dot with a colon. \n",
    "text='The quick brown fox jumps over the lazy dog adam efadot.'\n",
    "import re\n",
    "print(re.sub(\"[ \\n.]\",\":\",text))"
   ]
  },
  {
   "cell_type": "code",
   "execution_count": 74,
   "metadata": {},
   "outputs": [
    {
     "name": "stdout",
     "output_type": "stream",
     "text": [
      "['quick', 'brown', 'jumps', 'efado']\n"
     ]
    }
   ],
   "source": [
    "# 33. Write a Python program to find all five characters long word in a string. \n",
    "text='The quick brown fox jumps over the lazy dog adam efadot.'\n",
    "import re\n",
    "print(re.findall(\"[\\S]{5}\",text))"
   ]
  },
  {
   "cell_type": "code",
   "execution_count": 75,
   "metadata": {},
   "outputs": [
    {
     "name": "stdout",
     "output_type": "stream",
     "text": [
      "['The', 'quick', 'brown', 'fox', 'jumps', 'over', 'the', 'lazy', 'dog', 'adam', 'efado']\n"
     ]
    }
   ],
   "source": [
    "# 34. Write a Python program to find all three, four, five characters long words in a string. \n",
    "text='The quick brown fox jumps over the lazy dog adam efadot.'\n",
    "import re\n",
    "print(re.findall(\"[\\S]{3,5}\",text))"
   ]
  },
  {
   "cell_type": "code",
   "execution_count": 80,
   "metadata": {},
   "outputs": [
    {
     "name": "stdout",
     "output_type": "stream",
     "text": [
      "['quick', 'brown', 'jumps', 'over', 'lazy', 'adam', 'efadot.']\n"
     ]
    }
   ],
   "source": [
    "# 35. Write a Python program to find all words which are at least 4 characters long in a string. \n",
    "text='The quick brown fox jumps over the lazy dog adam efadot.'\n",
    "import re\n",
    "print(re.findall(\"[\\S]{4,}\",text))\n"
   ]
  },
  {
   "cell_type": "code",
   "execution_count": null,
   "metadata": {},
   "outputs": [],
   "source": [
    "# 36. Write a python program to convert camel case string to snake case string. \n"
   ]
  },
  {
   "cell_type": "code",
   "execution_count": null,
   "metadata": {},
   "outputs": [],
   "source": [
    "# 37. Write a python program to convert snake case string to camel case string. \n"
   ]
  },
  {
   "cell_type": "code",
   "execution_count": 1,
   "metadata": {},
   "outputs": [
    {
     "name": "stdout",
     "output_type": "stream",
     "text": [
      "[]\n"
     ]
    }
   ],
   "source": [
    "# 38. Write a Python program to extract values between quotation marks of a string. \n",
    "text='\"Python\",\"PHP\",\"java\"'\n",
    "import re\n",
    "print(re.findall(\"[.*]\",text))"
   ]
  },
  {
   "cell_type": "code",
   "execution_count": 87,
   "metadata": {},
   "outputs": [
    {
     "name": "stdout",
     "output_type": "stream",
     "text": [
      "The quick brown fox jumps over the lazy dog adam efadot.\n"
     ]
    }
   ],
   "source": [
    "# 39. Write a Python program to remove multiple spaces in a string. \n",
    "text='The quick       brown   fox jumps over the lazy dog adam efadot.'\n",
    "import re\n",
    "print(re.sub(\"  +\",\" \",text))"
   ]
  },
  {
   "cell_type": "code",
   "execution_count": 106,
   "metadata": {},
   "outputs": [
    {
     "name": "stdout",
     "output_type": "stream",
     "text": [
      "Thequickbrownfoxjumpsoverthelazydogadamefadot.\n"
     ]
    }
   ],
   "source": [
    "# 40. Write a Python program to remove all whitespaces from a string. \n",
    "text=\"\"\"The quick brown fox jumps over_ the lazy \\n dog adam efadot.\"\"\"\n",
    "import re\n",
    "print(re.sub(\"[ _   \\n]\",\"\",text))"
   ]
  },
  {
   "cell_type": "code",
   "execution_count": 111,
   "metadata": {},
   "outputs": [
    {
     "name": "stdout",
     "output_type": "stream",
     "text": [
      "Thequickbrownfoxjumpsoverthe23lazydogadam23efadot\n"
     ]
    }
   ],
   "source": [
    "# 41. Write a Python program to remove everything except alphanumeric characters from a string. \n",
    "text=\"\"\"The quick brown fox jumps over_ the23 lazy \\n dog adam23 efadot.\"\"\"\n",
    "import re\n",
    "print(re.sub(\"[^a-zA-Z0-9]\",\"\",text))"
   ]
  },
  {
   "cell_type": "code",
   "execution_count": null,
   "metadata": {},
   "outputs": [],
   "source": [
    "# 42. Write a Python program to find urls in a string. \n"
   ]
  },
  {
   "cell_type": "code",
   "execution_count": 4,
   "metadata": {},
   "outputs": [
    {
     "name": "stdout",
     "output_type": "stream",
     "text": [
      "['', '', '']\n"
     ]
    }
   ],
   "source": [
    "# 43. Write a Python program to split a string at uppercase letters. \n",
    "text=\"\"\"JumpsTime\"\"\"\n",
    "import re\n",
    "print(re.split(\"[a-zA-Z][^A-Z]*\",text))"
   ]
  },
  {
   "cell_type": "code",
   "execution_count": null,
   "metadata": {},
   "outputs": [],
   "source": [
    "# 44. Write a Python program to do a case-insensitive string replacement.\n"
   ]
  }
 ],
 "metadata": {
  "kernelspec": {
   "display_name": "Python 3",
   "language": "python",
   "name": "python3"
  },
  "language_info": {
   "codemirror_mode": {
    "name": "ipython",
    "version": 3
   },
   "file_extension": ".py",
   "mimetype": "text/x-python",
   "name": "python",
   "nbconvert_exporter": "python",
   "pygments_lexer": "ipython3",
   "version": "3.10.10"
  },
  "orig_nbformat": 4
 },
 "nbformat": 4,
 "nbformat_minor": 2
}
