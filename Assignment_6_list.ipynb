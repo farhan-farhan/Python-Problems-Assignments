{
 "cells": [
  {
   "cell_type": "code",
   "execution_count": null,
   "metadata": {},
   "outputs": [],
   "source": [
    "# 1. Write a Python program to sum all the items in a list. \n",
    "\n",
    "# list=[1,3,5,6,7,8]\n",
    "# print(sum(list))\n",
    "\n",
    "# list=[1,3,5,6,7,8]\n",
    "# s=0\n",
    "# for i in list:\n",
    "#     s=s+i\n",
    "# print(s) "
   ]
  },
  {
   "cell_type": "code",
   "execution_count": null,
   "metadata": {},
   "outputs": [],
   "source": [
    "# 2. Write a Python program to get the largest number from a list\n",
    "\n",
    "# list=[7,5,8,67,9,34,67,56]\n",
    "# print(max(list))\n",
    "\n",
    "\n",
    "# list=[8,5,9,6,9,33,60,50]\n",
    "# m=0\n",
    "# for i in list:\n",
    "#     if(i>m):\n",
    "#         m=i\n",
    "    \n",
    "# print(m)  "
   ]
  },
  {
   "cell_type": "code",
   "execution_count": null,
   "metadata": {},
   "outputs": [],
   "source": [
    "# 3. Write a Python program to count the number of strings where the string length is 2 or more and the first and last character are same from a given list of strings.\n",
    "\n",
    "# Sample List : ['abc', 'xyz', 'aba', '1221']\n",
    "# Expected Result : 2\n",
    "List = ['abc', 'xyz', 'aba', '1221']\n",
    "count=0\n",
    "y=[]\n",
    "for i in List:\n",
    "    # print(i)\n",
    "    if len(i)>=2 and i==i[::-1]:\n",
    "        count=count+1\n",
    "        y.append(i)\n",
    "        \n",
    "print(count,y) "
   ]
  },
  {
   "cell_type": "code",
   "execution_count": null,
   "metadata": {},
   "outputs": [],
   "source": [
    "\n",
    "# 4. Write a Python program to remove duplicates from a list.\n",
    "\n",
    "# list=[7,5,8,9,7,34,34,8,67,56]\n",
    "# print(set(list))\n",
    "\n",
    "# x=[7,5,8,9,7,34,34,8,67,56]\n",
    "# y=[]\n",
    "# for i in x:\n",
    "#     if i in y:\n",
    "#         pass\n",
    "#     else:\n",
    "#         y.append(i)\n",
    "# print(y)"
   ]
  },
  {
   "cell_type": "code",
   "execution_count": null,
   "metadata": {},
   "outputs": [],
   "source": [
    "\n",
    "# 5. Write a Python program to check a list is empty or not.\n",
    "# list =[1,3,4,6,9,4]\n",
    "list=[]\n",
    "\n",
    "if len(list)==0:\n",
    "    print(\"list is empty:\")\n",
    "else:\n",
    "    print(\"list is not empty\") "
   ]
  },
  {
   "cell_type": "code",
   "execution_count": null,
   "metadata": {},
   "outputs": [],
   "source": [
    "        \n",
    "# 6. Write a Python program to print a specified list after removing the 0th, 4th and 5th elements.\n",
    "\n",
    "# Sample List : ['Red', 'Green', 'White', 'Black', 'Pink', 'Yellow']\n",
    "# Expected Output : ['Green', 'White', 'Black']\n",
    "\n",
    "# list = ['Red', 'Green', 'White', 'Black', 'Pink', 'Yellow']\n",
    "\n",
    "# del list[0]\n",
    "# del list[3]\n",
    "# del list[3]\n",
    "# print(list)"
   ]
  },
  {
   "cell_type": "code",
   "execution_count": null,
   "metadata": {},
   "outputs": [],
   "source": [
    "\n",
    "# 7. Write a Python program to print the numbers of a specified list after removing even numbers from it. \n",
    "\n",
    "list =[1,4,4,12,3,6,4,9,4]\n",
    "y=[]\n",
    "for i in list:\n",
    "    if(i%2!=0):\n",
    "        y.append(i)\n",
    "            \n",
    "print(y)  "
   ]
  },
  {
   "cell_type": "code",
   "execution_count": null,
   "metadata": {},
   "outputs": [],
   "source": [
    "\n",
    "      \n",
    "# 8. Write a Python program to convert a list of characters into a string. \n",
    "\n",
    "# x=['i','n','d','i','a']\n",
    "# s=\"\"\n",
    "# for i in x:\n",
    "#     s=s+i\n",
    "# print(s)\n",
    "\n",
    "# list =['s','t','r','i','n','g']\n",
    "# print(\"\".join(list))"
   ]
  },
  {
   "cell_type": "code",
   "execution_count": null,
   "metadata": {},
   "outputs": [],
   "source": [
    "\n",
    "# 9. Write a Python program to find the second largest number in a list. \n",
    "\n",
    "# list=[8,5,9,6,9,33,60,50,70,55]\n",
    "# y=set(list) \n",
    "# z=sorted(y)\n",
    "# print(z[-2])\n",
    "   "
   ]
  },
  {
   "cell_type": "code",
   "execution_count": null,
   "metadata": {},
   "outputs": [],
   "source": [
    "\n",
    "\n",
    "# 10. Write a Python program to get unique values from a list.\n",
    "\n",
    "# list=[8,5,60,8,9,6,9,8,33,60,50]\n",
    "# list1=[]\n",
    "# for i in list:\n",
    "#     if i not in list1:\n",
    "#         list1.append(i)\n",
    "#print(list1)   "
   ]
  }
 ],
 "metadata": {
  "language_info": {
   "name": "python"
  },
  "orig_nbformat": 4
 },
 "nbformat": 4,
 "nbformat_minor": 2
}
