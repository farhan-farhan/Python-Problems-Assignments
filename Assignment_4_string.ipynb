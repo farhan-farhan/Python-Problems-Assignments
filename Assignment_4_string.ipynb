{
 "cells": [
  {
   "attachments": {},
   "cell_type": "markdown",
   "metadata": {},
   "source": [
    "1. Write a Python program to calculate the length of a string without using len().  \n",
    "\n",
    "2. Write a Python program to change a given string to a new string where the first and last chars have been exchanged.  \n",
    "\n",
    "3. Write a Python program to remove the characters which have odd index values of a given string. \n",
    "4. Write a Python program to count the occurrence of words in a given string.  \n",
    "5. Write a Python program that takes input from the user and displays that input back in upper and lower cases.  \n",
    "6. Write a Python program to get a char in a string just before specified substring.\n",
    "7. Write a Python program to convert a given string to all uppercase if it contains at least 2 uppercase characters in the first 4 characters.  \n",
    "8. Write a Python program to sort a string lexicographically(ascending).  \n",
    "9. Write a Python program to remove all newlines in a string.  \n",
    "10. Write a Python program to check whether a string starts with specified characters \n",
    "11. Write a Python program to reverse a string.  \n",
    "12. Write a Python program to print the index of each character in a string. \n",
    "13. Write a Python program to check if a string contains all vowels of the alphabet.  \n",
    "14. Write a Python program to lowercase first n characters in a string.  \n",
    "15. Write a Python program to swap comma and dot in a string.  \n",
    "Sample string: \"32.054,23\"\n",
    "Expected Output: \"32,054.23\"\n",
    "\n",
    "16. Write a Python program to count and display the vowels of a given text.  \n",
    "17. Write a Python program to split a string on the last occurrence of the space.  \n",
    "18.Write a Python program to remove spaces from a given string.  \n",
    "19. Write a Python program to move spaces to the front of a given string.  \n",
    "20. Write a Python program to capitalize first and last letters of a given string.  \n",
    "21. Write a Python program to remove duplicate characters of a given string.\n",
    "22.WAP to find number of occurrences of character ‘o’ in the string entered through keyboard. If the character ‘o’ is not present in the string then show a message “o is not present in the entered string”.\n",
    "23.WAP which read the string and print only vowel characters of entered string on computer screen.\n",
    "24.WAP that reads a string from keyboard and determine whether the string is palindrome or not.\n",
    "\n"
   ]
  },
  {
   "cell_type": "code",
   "execution_count": null,
   "metadata": {},
   "outputs": [],
   "source": [
    "# 1. Write a Python program to calculate the length of a string without using len().  \n",
    "\n",
    "# s=\"hello friends\"\n",
    "# count=0\n",
    "# for i in s[::1]:\n",
    "#     count=count+1\n",
    "# print(count)"
   ]
  },
  {
   "cell_type": "code",
   "execution_count": null,
   "metadata": {},
   "outputs": [],
   "source": [
    "# 2. Write a Python program to change a given string to a new string where the first and last chars have been exchanged. \n",
    "\n",
    "# s=\"farhan\"\n",
    "# print(s[-1]+s[1:-1]+s[0])"
   ]
  },
  {
   "cell_type": "code",
   "execution_count": null,
   "metadata": {},
   "outputs": [],
   "source": [
    "# 3. Write a Python program to remove the characters which have odd index values of a given string.  \n",
    "\n",
    "# s=\"rampur\"\n",
    "# print(s[0::2])"
   ]
  },
  {
   "cell_type": "code",
   "execution_count": null,
   "metadata": {},
   "outputs": [],
   "source": [
    "\n",
    "\n",
    "# 4. Write a Python program to count the occurrence of words in a given string. \n",
    "\n",
    "# s=\"india is india rampur is india delhi in india\"\n",
    "# list_word=s.split()\n",
    "# print(list_word)\n",
    "# set_word=set(list_word)\n",
    "# print(set_word)\n",
    "\n",
    "# for word in set_word:\n",
    "#     print(word, s.count(word))"
   ]
  },
  {
   "cell_type": "code",
   "execution_count": null,
   "metadata": {},
   "outputs": [],
   "source": [
    "\n",
    " \n",
    "# 5. Write a Python program that takes input from the user and displays that input back in upper and lower cases.\n",
    "\n",
    "# s=input(\"Enter the Input\")\n",
    "# print(s.upper())\n",
    "# print(s.lower())\n",
    "# s=\"Hello i am farhan pasha and you are the best icon\"\n",
    "# print(s.lower())\n",
    "# print(s.upper())"
   ]
  },
  {
   "cell_type": "code",
   "execution_count": null,
   "metadata": {},
   "outputs": [],
   "source": [
    "\n",
    "# 6. Write a Python program to get a char in a string just before specified substring.\n",
    "\n",
    "# s=\"Hello i am farhan pasha and you are the best icon\"\n",
    "# print(s[s.index(\"re\")-1])"
   ]
  },
  {
   "cell_type": "code",
   "execution_count": null,
   "metadata": {},
   "outputs": [],
   "source": [
    "\n",
    "# 7. Write a Python program to convert a given string to all uppercase if it contains at least 2 uppercase characters in the first 4 characters. \n",
    "\n",
    "# s=\"FArhanpasha\"\n",
    "# # s=\"farhanPasha\"\n",
    "# s[0:3]\n",
    "# count=0\n",
    "# for i in s:\n",
    "#     if(i.isupper()):\n",
    "#         count=count+1\n",
    "# if(count>=2):\n",
    "#     print(s.upper()) \n",
    "# else:\n",
    "#     print(\"First 2 character are not Captial Form\")           \n"
   ]
  },
  {
   "cell_type": "code",
   "execution_count": null,
   "metadata": {},
   "outputs": [],
   "source": [
    "\n",
    "# 8. Write a Python program to sort a string lexicographically(ascending). \n",
    "\n",
    "# s=\"farhan\"\n",
    "# print(\"\".join(sorted(s)))"
   ]
  },
  {
   "cell_type": "code",
   "execution_count": null,
   "metadata": {},
   "outputs": [],
   "source": [
    "\n",
    "# 9. Write a Python program to remove all newlines in a string.  \n",
    "\n",
    "# s='''fddfg\n",
    "# dgghhj\n",
    "# dghgj'''\n",
    "# print(s.replace(\"\\n\",\" \"))"
   ]
  },
  {
   "cell_type": "code",
   "execution_count": null,
   "metadata": {},
   "outputs": [],
   "source": [
    "\n",
    "# 10. Write a Python program to check whether a string starts with specified characters \n",
    "\n",
    "# s=\"FArhanpasha\"\n",
    "# print(s.startswith(\"F\"))\n"
   ]
  },
  {
   "cell_type": "code",
   "execution_count": null,
   "metadata": {},
   "outputs": [],
   "source": [
    "\n",
    "# 11. Write a Python program to reverse a string.  \n",
    "\n",
    "# s=\"FArhanpasha\"\n",
    "# print(s[::-1])\n"
   ]
  },
  {
   "cell_type": "code",
   "execution_count": null,
   "metadata": {},
   "outputs": [],
   "source": [
    "\n",
    "# 12. Write a Python program to print the index of each character in a string. \n",
    "\n",
    "# s=\"Farhanpasha\"\n",
    "# count=0\n",
    "# for i in s:\n",
    "#     print(count,i)\n",
    "#     count=count+1"
   ]
  },
  {
   "cell_type": "code",
   "execution_count": null,
   "metadata": {},
   "outputs": [],
   "source": [
    "# 13. Write a Python program to check if a string contains all vowels of the alphabet. \n",
    "\n",
    "# s=\"FArhanpasaaiosioeu\".lower()\n",
    "# if( \"a\" in s and \"e\" in s and \"i\" in s and \"o\" in s and \"u\" in s):\n",
    "#     print(\"wovel contain\")\n",
    "# else:\n",
    "#     print(\"vowel are not contain\") "
   ]
  },
  {
   "cell_type": "code",
   "execution_count": null,
   "metadata": {},
   "outputs": [],
   "source": [
    "\n",
    "\n",
    "   \n",
    "# 14. Write a Python program to lowercase first n characters in a string. \n",
    " \n",
    "# s=\"FjTcklasdjfarrhan\"\n",
    "# n=3\n",
    "# s=s[:n].lower()+s[n:]\n",
    "# print(s)"
   ]
  },
  {
   "cell_type": "code",
   "execution_count": null,
   "metadata": {},
   "outputs": [],
   "source": [
    "# 15. Write a Python program to swap comma and dot in a string.  \n",
    "# Sample string: \"32.054,23\"\n",
    "# Expected Output: \"32,054.23\"\n",
    "\n",
    "# s=\"32.054,23\"\n",
    "# s2=\"\"\n",
    "# for i in s:\n",
    "#     if i==\".\":\n",
    "#         s2=s2+\",\"\n",
    "#     elif i==\",\":\n",
    "#         s2=s2+\".\"\n",
    "#     else:\n",
    "#         s2=s2+i    \n",
    "# print(s2)            \n",
    "    "
   ]
  },
  {
   "cell_type": "code",
   "execution_count": null,
   "metadata": {},
   "outputs": [],
   "source": [
    "\n",
    "# 16. Write a Python program to count and display the vowels of a given text.\n",
    "\n",
    "  \n",
    "# s=\"FArhanpasaaiosiou\".lower()\n",
    "# count=0\n",
    "# for i in s:\n",
    "#     if(i in \"aeiou\"):\n",
    "#         print(i)\n",
    "#         count=count+1\n",
    "# print(\"Total wovel is :\",count) "
   ]
  },
  {
   "cell_type": "code",
   "execution_count": null,
   "metadata": {},
   "outputs": [],
   "source": [
    "# 17. Write a Python program to split a string on the last occurrence of the space. \n",
    "\n",
    "# s=\"india is good country\"\n",
    "# i=s.rindex(\" \")\n",
    "# s1=s[:i]\n",
    "# s2=s[i+1:]\n",
    "# print(s1)\n",
    "# print(s2)\n",
    " "
   ]
  },
  {
   "cell_type": "code",
   "execution_count": null,
   "metadata": {},
   "outputs": [],
   "source": [
    "\n",
    "# 18.Write a Python program to remove spaces from a given string.  \n",
    "\n",
    "# s=\"     farhan  \"\n",
    "# print(s.strip())\n"
   ]
  },
  {
   "cell_type": "code",
   "execution_count": null,
   "metadata": {},
   "outputs": [],
   "source": [
    "\n",
    "# 19. Write a Python program to move spaces to the front of a given string. \n",
    "\n",
    "# s=\"     farhan  dfgdf dgg\"\n",
    "# print(s.lstrip())\n"
   ]
  },
  {
   "cell_type": "code",
   "execution_count": null,
   "metadata": {},
   "outputs": [],
   "source": [
    "\n",
    " \n",
    "# 20. Write a Python program to capitalize first and last letters of a given string. \n",
    "\n",
    "# s=\"farhan\"\n",
    "# s1=s[0].upper()\n",
    "# s2=s[1:-1]\n",
    "# s3=s[-1].upper()\n",
    "# print(s1+s2+s3)"
   ]
  },
  {
   "cell_type": "code",
   "execution_count": null,
   "metadata": {},
   "outputs": [],
   "source": [
    " \n",
    "\n",
    "# 21. Write a Python program to remove duplicate characters of a given string.\n",
    "\n",
    "# s=\"farhan  dfgdf dgg\"\n",
    "# print(\"\".join(set(s)))\n"
   ]
  },
  {
   "cell_type": "code",
   "execution_count": null,
   "metadata": {},
   "outputs": [],
   "source": [
    "\n",
    "# 22.WAP to find number of occurrences of character ‘o’ in the string entered through keyboard. If the character ‘o’ is not present in the string then show a message “o is not present in the entered string”.\n",
    "\n",
    "# s=input(\"Enter the string :\\n\")\n",
    "# c=s.count(\"o\")\n",
    "# if c==0:\n",
    "#         print(\"o is not present\")\n",
    "# else:\n",
    "#         print(f\"o is {c} times  present in {s}\") "
   ]
  },
  {
   "cell_type": "code",
   "execution_count": null,
   "metadata": {},
   "outputs": [],
   "source": [
    "       \n",
    "# 23.WAP which read the string and print only vowel characters of entered string on computer screen.\n",
    "\n",
    "# s=\"farhanpashaoo\"\n",
    "# for i in s:\n",
    "#     if i in \"aeiou\":\n",
    "#         print(i)\n",
    "        "
   ]
  },
  {
   "cell_type": "code",
   "execution_count": null,
   "metadata": {},
   "outputs": [],
   "source": [
    "\n",
    " \n",
    "# 24.WAP that reads a string from keyboard and determine whether the string is palindrome or not.\n",
    "\n",
    "# s=\"abcdba\"\n",
    "# s1=s[::-1]\n",
    "# print(s1)\n",
    "# if s == s1:\n",
    "#     print(\"plaindrom\")\n",
    "# else:\n",
    "#     print(\"string is not plaindrome\")   "
   ]
  }
 ],
 "metadata": {
  "language_info": {
   "name": "python"
  },
  "orig_nbformat": 4
 },
 "nbformat": 4,
 "nbformat_minor": 2
}
