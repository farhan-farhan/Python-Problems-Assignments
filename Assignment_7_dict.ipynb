{
 "cells": [
  {
   "attachments": {},
   "cell_type": "markdown",
   "metadata": {},
   "source": [
    "\n",
    "\n",
    "1. Write a Python script to sort (ascending and descending) a dictionary by key. \n",
    "2. Write a Python script to add an item to a dictionary\n",
    "Sample Dictionary : {0: 10, 1: 20}\n",
    "Expected Result : {0: 10, 1: 20, 2: 30}\n",
    "\n",
    "3. Write a Python script to concatenate following dictionaries to create a new one.\n",
    "dic1={1:10, 2:20}\n",
    "dic2={3:30, 4:40}\n",
    "dic3={5:50,6:60}\n",
    "Expected Result : {1: 10, 2: 20, 3: 30, 4: 40, 5: 50, 6: 60}\n",
    "\n",
    "4. Write a Python script to check if a given key already exists in a dictionary. \n",
    "5. Write a Python program to iterate over dictionaries using for loops.\n",
    "6. Write a Python script to generate and print a dictionary that contains a number (between 1 and n) in the form (x, x*x).\n",
    "Sample Dictionary ( n = 5) :\n",
    "Expected Output : {1: 1, 2: 4, 3: 9, 4: 16, 5: 25}\n",
    "\n",
    "7. Write a Python script to print a dictionary where the keys are numbers between 1 and 15 (both included) and the values are square of keys. \n",
    "Sample Dictionary\n",
    "{1: 1, 2: 4, 3: 9, 4: 16, 5: 25, 6: 36, 7: 49, 8: 64, 9: 81, 10: 100, 11: 121, 12: 144, 13: 169, 14: 196, 15: 225}\n",
    "\n",
    "8. Write a Python script to merge two Python dictionaries.\n",
    "\n",
    "9. Write a Python program to iterate over dictionaries using for loops. \n",
    "10. Write a Python program to remove a key from a dictionary. \n",
    "11. Write a Python program to map two lists into a dictionary. \n",
    "12. Write a Python program to sort a dictionary by key. \n",
    "13. Write a Python program to remove duplicates(based on values) from Dictionary.\n",
    "14. Write a Python program to check a dictionary is empty or not. \n",
    "15. Write a Python program to combine two dictionary adding values for common keys.\n",
    "d1 = {'a': 100, 'b': 200, 'c':300}\n",
    "d2 = {'a': 300, 'b': 200, 'd':400}\n",
    "Sample output: Counter({'a': 400, 'b': 400, 'd': 400, 'c': 300})\n",
    "\n",
    "16. Write a Python program to print a dictionary in table format.\n",
    "\n",
    "17. Write a Python program to get the top three items in a shop.\n",
    "Sample data: {'item1': 45.50, 'item2':35, 'item3': 41.30, 'item4':55, 'item5': 24}\n",
    "Expected Output:\n",
    "item4 55\n",
    "item1 45.5\n",
    "item3 41.3\n",
    "\n",
    "18. Write a Python program to match key values in two dictionaries. \n",
    "Sample dictionary: {'key1': 1, 'key2': 3, 'key3': 2}, {'key1': 1, 'key2': 2}\n",
    "Expected output: key1: 1 is present in both x and y\n"
   ]
  },
  {
   "cell_type": "code",
   "execution_count": null,
   "metadata": {},
   "outputs": [],
   "source": [
    "# 1. Write a Python script to sort (ascending and descending) a dictionary by key. \n",
    "\n",
    "# d={1:\"farhan\",3:\"pasha\",2:\"Turk\",5:\"Don\",4:\"King\"}\n",
    "# d1={}\n",
    "# k=sorted(d)\n",
    "# print(k)\n",
    "# for i in k:\n",
    "#     d1[i]=d[i]\n",
    "# print(d1)    \n",
    "\n",
    "# k=sorted(d,reverse=True)\n",
    "# d2={}\n",
    "# for i in k:\n",
    "#     d2[i]=d[i]\n",
    "# print(d2)  "
   ]
  },
  {
   "cell_type": "code",
   "execution_count": null,
   "metadata": {},
   "outputs": [],
   "source": [
    "# 2. Write a Python script to add an item to a dictionary\n",
    "# Sample Dictionary : {0: 10, 1: 20}\n",
    "# Expected Result : {0: 10, 1: 20, 2: 30}\n",
    "\n",
    "# d= {0: 10, 1: 20}\n",
    "# d[2]=30\n",
    "# print(d)\n",
    "# Nesting Dict\n",
    "\n",
    "d={1:\"sonu\",2:{\"a\":\"apple\",\"b\":{\"b1\":\"ball\",\"b2\":\"bat\"}}}\n",
    "print(d)\n",
    "print(d[1])\n",
    "print(d[2]['b'])\n",
    "print(d[2]['b']['b1'])\n",
    "d2=d[2]['b']\n",
    "print(d2['b1'])\n",
    "print(d2['b2'])\n",
    "# print(sorted(list(d.items()))) \n",
    "# print(sorted(list(d.items()),reverse=True)) \n"
   ]
  },
  {
   "cell_type": "code",
   "execution_count": null,
   "metadata": {},
   "outputs": [],
   "source": [
    "\n",
    "# 3. Write a Python script to concatenate following dictionaries to create a new one.\n",
    "# dic1={1:10, 2:20}\n",
    "# dic2={3:30, 4:40}\n",
    "# dic3={5:50,6:60}\n",
    "# Expected Result : {1: 10, 2: 20, 3: 30, 4: 40, 5: 50, 6: 60}\n",
    "\n",
    "# dic1={1:10, 2:20}\n",
    "# dic2={3:30, 4:40}\n",
    "# dict3={5:50,6:60}\n",
    "# dict4={}\n",
    "\n",
    "# dict4.update(dic1)\n",
    "# dict4.update(dic2)\n",
    "# dict4.update(dict3)\n",
    "# print(dict4)"
   ]
  },
  {
   "cell_type": "code",
   "execution_count": null,
   "metadata": {},
   "outputs": [],
   "source": [
    "\n",
    "# 4. Write a Python script to check if a given key already exists in a dictionary. \n",
    "\n",
    "# d={4:\"farhan\",3:\"pasha\",2:\"Turk\",5:\"Don\",4:\"King\"}\n",
    "# if(4 in d):\n",
    "#     print(\"Key is alredy Exist in dict:\")\n",
    "# else:\n",
    "#     print(\"Key is not present in dict:\")"
   ]
  },
  {
   "cell_type": "code",
   "execution_count": null,
   "metadata": {},
   "outputs": [],
   "source": [
    "# 5. Write a Python program to iterate over dictionaries using for loops.\n",
    "\n",
    "d1={'a':\"apple\",'b':\"banana\"}\n",
    "d2={1:\"farhan\",2:\"pasha\"}\n",
    "for k1,k2 in zip(d1,d2):\n",
    "    # print(k1,k2)\n",
    "    print(d1[k1],d2[k2])"
   ]
  },
  {
   "cell_type": "code",
   "execution_count": null,
   "metadata": {},
   "outputs": [],
   "source": [
    "\n",
    "# 6. Write a Python script to generate and print a dictionary that contains a number (between 1 and n) in the form (x, x*x).\n",
    "# Sample Dictionary ( n = 5) :\n",
    "# Expected Output : {1: 1, 2: 4, 3: 9, 4: 16, 5: 25}\n",
    "\n",
    "# d={x:x*x for x in range(1,6)}\n",
    "# print(d)"
   ]
  },
  {
   "cell_type": "code",
   "execution_count": null,
   "metadata": {},
   "outputs": [],
   "source": [
    "\n",
    "# 7. Write a Python script to print a dictionary where the keys are numbers between 1 and 15 (both included) and the values are square of keys. \n",
    "# Sample Dictionary\n",
    "# Sample Dictionary\n",
    "# {1: 1, 2: 4, 3: 9, 4: 16, 5: 25, 6: 36, 7: 49, 8: 64, 9: 81, 10: 100, 11: 121, 12: 144, 13: 169, 14: 196, 15: 225}\n",
    "\n",
    "# d={x:x*x for x in range(1,16)}\n",
    "# print(d)"
   ]
  },
  {
   "cell_type": "code",
   "execution_count": null,
   "metadata": {},
   "outputs": [],
   "source": [
    "\n",
    "# 8. Write a Python script to merge two Python dictionaries.\n",
    "\n",
    "# d1={1:\"farhan\",3:\"pasha\",2:\"Turk\",5:\"Don\",4:\"King\"}\n",
    "# d2={4:\"rashid khan\",7:\"gurbaz\",8:\"virat\",9:\"du pleses\",10:\"maxwale\"}\n",
    "# d3={}\n",
    "# d3.update(d1)\n",
    "# d3.update(d2)\n",
    "# print(d3)\n",
    " "
   ]
  },
  {
   "cell_type": "code",
   "execution_count": null,
   "metadata": {},
   "outputs": [],
   "source": [
    "\n",
    "# 10. Write a Python program to remove a key from a dictionary.\n",
    "\n",
    "d1={1:\"farhan\",3:\"pasha\",2:\"Turk\",5:\"Don\",4:\"King\"}\n",
    "del d1[1]\n",
    "print(d1)\n",
    " "
   ]
  },
  {
   "cell_type": "code",
   "execution_count": null,
   "metadata": {},
   "outputs": [],
   "source": [
    "\n",
    "# 11. Write a Python program to map two lists into a dictionary. \n",
    "\n",
    "l1=[1,2,3,4,5]\n",
    "l2=[\"farhan\",\"pasha\",\"Turk\",\"rockey\",\"King\"]\n",
    "d={}\n",
    "for k,v in zip(l1,l2):\n",
    "    d[k]=v\n",
    "print(d)"
   ]
  },
  {
   "cell_type": "code",
   "execution_count": null,
   "metadata": {},
   "outputs": [],
   "source": [
    "\n",
    "# 12. Write a Python program to sort a dictionary by key. \n",
    "\n",
    "# d={1:\"farhan\",3:\"pasha\",2:\"Turk\",5:\"Don\",4:\"King\"}\n",
    "# d1={}\n",
    "# k=sorted(d)\n",
    "# for i in k:\n",
    "#     d1[i]=d[i]\n",
    "# print(d1) \n",
    "   \n",
    "# print(sorted(d1.items()))"
   ]
  },
  {
   "cell_type": "code",
   "execution_count": null,
   "metadata": {},
   "outputs": [],
   "source": [
    "# 13. Write a Python program to remove duplicates(based on values) from Dictionary.**\n",
    "\n",
    "d={1:'a',2:'a',3:'c',4:'d',5:'e'}\n",
    "k=[]\n",
    "# for i,j in d.items():\n",
    "#     if j=='a': \n",
    "for i in d.keys():\n",
    "    if d[i]=='a': \n",
    "      k.append(i)\n",
    "print(k)    \n",
    "for i in k:\n",
    "    del d[i]\n",
    "print(d) "
   ]
  },
  {
   "cell_type": "code",
   "execution_count": null,
   "metadata": {},
   "outputs": [],
   "source": [
    "# 14. Write a Python program to check a dictionary is empty or not. \n",
    "\n",
    "# d1={1:\"farhan\",3:\"pasha\",2:\"Turk\",5:\"Don\",4:\"King\"}\n",
    "# if d1.__len__()>0:\n",
    "#     print(\"dict is not empty\")\n",
    "# else:\n",
    "#     print(\"dict is empty:\")  "
   ]
  },
  {
   "cell_type": "code",
   "execution_count": null,
   "metadata": {},
   "outputs": [],
   "source": [
    "# 15. Write a Python program to combine two dictionary adding values for common keys.**\n",
    "# d1 = {'a': 100, 'b': 200, 'c':300}\n",
    "# d2 = {'b': 300, 'a': 200, 'd':400}\n",
    "# Sample output: Counter({'a': 400, 'b': 400, 'd': 400, 'c': 300})\n",
    "\n",
    "d1 = {'a': 100, 'b': 200, 'c':300}\n",
    "d2 = {'a': 300, 'b': 200, 'd':400}\n",
    "d3={}\n",
    "d3.update(d2)\n",
    "for k in d1:\n",
    "     if k in d2:\n",
    "         d3[k]=d1[k]+d2[k]\n",
    "     else:\n",
    "         d3[k]=d1[k]   \n",
    "     \n",
    "print(d3)        \n",
    "         "
   ]
  },
  {
   "cell_type": "code",
   "execution_count": null,
   "metadata": {},
   "outputs": [],
   "source": [
    "\n",
    "# 16. Write a Python program to print a dictionary in table format.\n",
    "d1={1:\"farhan\",2:\"pasha\",3:\"Turk\",4:\"Don\",5:\"King\"}\n",
    "\n",
    "print(\"---------------------------------\")\n",
    "print(\"|\",\"key\",\"|\",\"values\",\"|\",sep='\\t')\n",
    "print(\"---------------------------------\")\n",
    "for k,v in d1.items():\n",
    "    print(\"|\",k,\"|\",v,\"|\",sep='\\t')\n",
    "print(\"---------------------------------\") "
   ]
  },
  {
   "cell_type": "code",
   "execution_count": null,
   "metadata": {},
   "outputs": [],
   "source": [
    "\n",
    "# 17. Write a Python program to get the top three items in a shop.**\n",
    "# Sample data: {'item1': 45.50, 'item2':35, 'item3': 41.30, 'item4':55, 'item5': 24}\n",
    "# Expected Output:\n",
    "# item4 55\n",
    "# item1 45.5\n",
    "# item3 41.3\n",
    "data= {'item1': 45.50, 'item2':35, 'item3': 41.30, 'item4':55, 'item5': 24}\n",
    "v=sorted(data.values(),reverse=True)\n",
    "for i in v[:3]:\n",
    "    for j,k in data.items():\n",
    "        if i==k:\n",
    "            print(j,k)"
   ]
  },
  {
   "cell_type": "code",
   "execution_count": null,
   "metadata": {},
   "outputs": [],
   "source": [
    "\n",
    "# 18. Write a Python program to match key values in two dictionaries. \n",
    "# Sample dictionary: {'key1': 1, 'key2': 3, 'key3': 2}, {'key1': 1, 'key2': 2}\n",
    "# Expected output: key1: 1 is present in both x and y\n",
    "\n",
    "x= {'key1': 1, 'key2': 3, 'key3': 2}\n",
    "y={'key1': 1, 'key2': 2}\n",
    "d={}\n",
    "for i,j in x.items():\n",
    "    for k,l in y.items():\n",
    "        \n",
    "       if i==k and j==l:\n",
    "           d[i]=j\n",
    "print(d)    "
   ]
  }
 ],
 "metadata": {
  "language_info": {
   "name": "python"
  },
  "orig_nbformat": 4
 },
 "nbformat": 4,
 "nbformat_minor": 2
}
