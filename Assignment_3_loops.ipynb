{
 "cells": [
  {
   "attachments": {},
   "cell_type": "markdown",
   "metadata": {},
   "source": []
  },
  {
   "cell_type": "code",
   "execution_count": null,
   "metadata": {},
   "outputs": [],
   "source": [
    "# 1.\tWAP to print all even and odd numbers between 1 and 100;\n",
    "\n",
    "# for i in range(1,101):\n",
    "#     if(i%2==0):\n",
    "#         print(i,\"even number\")\n",
    "#     else:\n",
    "#         print(i,\"odd number\")"
   ]
  },
  {
   "cell_type": "code",
   "execution_count": null,
   "metadata": {},
   "outputs": [],
   "source": [
    "            \n",
    "# 2.\tWAP to print all even and odd numbers between 100 and 1;\n",
    "# for i in range(100,0,-1):\n",
    "#     if(i%2==0):\n",
    "#         print(i,\"even number\")\n",
    "#     else:\n",
    "#         print(i,\"odd number\")"
   ]
  },
  {
   "cell_type": "code",
   "execution_count": null,
   "metadata": {},
   "outputs": [],
   "source": [
    "\n",
    "\n",
    "# 3.\tWAP to print sum of numbers from 1 and 100;\n",
    "\n",
    "# sum=0\n",
    "# for i in range(1,101):\n",
    "#     sum=sum+i\n",
    "# print(sum)   "
   ]
  },
  {
   "cell_type": "code",
   "execution_count": null,
   "metadata": {},
   "outputs": [],
   "source": [
    "\n",
    "# 5.\tWAP to print calculate the factorial of number entered through keyboard;\n",
    "\n",
    "# fact=1\n",
    "# num=int(input(\"Enter the number:\\n\"))\n",
    "# for i in range(1,num+1):\n",
    "#     fact=fact*i\n",
    "# print(fact)  "
   ]
  },
  {
   "cell_type": "code",
   "execution_count": null,
   "metadata": {},
   "outputs": [],
   "source": [
    "\n",
    "# 6.\tWAP to check prime number entered through keyboard.\n",
    "\n",
    "# num=int(input(\"Enter the number:\\n\"))\n",
    "# flag=0\n",
    "# for i in range(2,num):\n",
    "#     if(num%i==0):\n",
    "#         print(num,\" is not a prime Num:\\n\")\n",
    "#         flag=1\n",
    "#         break\n",
    "# if(flag==0):\n",
    "#     print(num,\" is prime number\") "
   ]
  },
  {
   "cell_type": "code",
   "execution_count": null,
   "metadata": {},
   "outputs": [],
   "source": [
    "     \n",
    "        \n",
    "# 7.\tWrite a Python program that prints all the numbers from 0 to 6 except 3 and 6.\n",
    "# Note: Use 'continue' statement.\n",
    "\n",
    "# for i in range(0,7):\n",
    "#     if(i==3 or i==6):\n",
    "#         continue\n",
    "#     else:\n",
    "#         print(i)"
   ]
  },
  {
   "cell_type": "code",
   "execution_count": null,
   "metadata": {},
   "outputs": [],
   "source": [
    "# 8.\tWrite a Python program to get the Fibonacci series between 0 to 50.  \n",
    "# Note : The Fibonacci Sequence is the series of numbers :\n",
    "# 0, 1, 1, 2, 3, 5, 8, 13, 21, ....\n",
    "# Every next number is found by adding up the two numbers before it.\n",
    "# a=0\n",
    "# b=1\n",
    "# print(a,end=\" \")\n",
    "# print(b,end=\" \")\n",
    "# for i in range(1,51):\n",
    "#     c=a+b\n",
    "#     a=b\n",
    "#     b=c\n",
    "#     print(c,end=\"  \")   \n",
    "\n",
    "'''a=int(input(\"Enter First Term:\"))\n",
    "b=int(input(\"Enter Second Term:\"))\n",
    "print(a,end=\" \")\n",
    "print(b,end=\" \")\n",
    "for i in range(1,10):\n",
    "    c=a+b\n",
    "    a=b\n",
    "    b=c\n",
    "    print(c,end=\"  \")   '''\n",
    "    "
   ]
  },
  {
   "cell_type": "code",
   "execution_count": null,
   "metadata": {},
   "outputs": [],
   "source": [
    "  \n",
    "# 9.\tCalculate the cube of all numbers from 1 to a given number.\n",
    "\n",
    "# num=int(input(\"Enter the Number:\\n\"))\n",
    "# for i in range(1,num+1):\n",
    "#     print(i,i**3)"
   ]
  },
  {
   "cell_type": "code",
   "execution_count": null,
   "metadata": {},
   "outputs": [],
   "source": [
    "\n",
    "    \n",
    "# 10.\tWrite a program to count the total number of digits in a number\n",
    "#        For example, the number is 75869, so the output should be 5\n",
    "num=75869\n",
    "count=0\n",
    "while num!=0:\n",
    "    r=num%10\n",
    "    num=num//10\n",
    "    count=count+1\n",
    "print(count)  \n",
    "\n",
    "print(len(str(75869))) "
   ]
  }
 ],
 "metadata": {
  "language_info": {
   "name": "python"
  },
  "orig_nbformat": 4
 },
 "nbformat": 4,
 "nbformat_minor": 2
}
